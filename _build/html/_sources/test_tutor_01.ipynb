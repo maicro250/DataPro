{
 "cells": [
  {
   "cell_type": "markdown",
   "id": "e0777be2-d21a-4150-b9b3-74d34b577e9d",
   "metadata": {},
   "source": [
    "**本习题由李政创建，转载及其他形式合作请与我们联系（微信号`maicro42`)，未经授权严禁搬运及二次创作，侵权必究！**"
   ]
  },
  {
   "cell_type": "markdown",
   "id": "b312ed1b",
   "metadata": {},
   "source": [
    "# Pandas基本操作练习"
   ]
  },
  {
   "cell_type": "markdown",
   "id": "1012c424-11c4-4c2c-a429-bd0888596ff9",
   "metadata": {},
   "source": [
    "## 题目1：输出“Hello world!”。"
   ]
  },
  {
   "cell_type": "code",
   "execution_count": 29,
   "id": "cd0d9595",
   "metadata": {},
   "outputs": [],
   "source": [
    "#点击此处输入代码"
   ]
  },
  {
   "cell_type": "markdown",
   "id": "a5abc62d-2e86-4a70-b408-a5b55fcf48ee",
   "metadata": {},
   "source": [
    "## 题目2：导入pandas模块，并将其重命名为pd。"
   ]
  },
  {
   "cell_type": "code",
   "execution_count": 30,
   "id": "5078d553-bedd-48b6-9eae-bb76ed1e64f8",
   "metadata": {},
   "outputs": [],
   "source": [
    "import pandas as pd"
   ]
  },
  {
   "cell_type": "markdown",
   "id": "fa6223d0-d22d-4b50-a0cd-4bf04735a6b2",
   "metadata": {},
   "source": [
    "## 题目3：显示pandas的版本号。"
   ]
  },
  {
   "cell_type": "code",
   "execution_count": 31,
   "id": "0719a102-8266-4cf6-a268-264028b1abd2",
   "metadata": {},
   "outputs": [],
   "source": [
    "dff = pd.DataFrame({\"姓名\": [\"张三\", \"李四\", \"王五\",],\n",
    "                   \"年龄\": [25, 28, 60],\n",
    "                   \"性别\": [\"男\", \"男\", \"女\"],})"
   ]
  },
  {
   "cell_type": "markdown",
   "id": "696a9412-2438-4600-b62a-09f0d872f1a2",
   "metadata": {},
   "source": [
    "## 题目4：打印显示数据表df。"
   ]
  },
  {
   "cell_type": "code",
   "execution_count": 32,
   "id": "b804afb5-41a8-4448-bca8-191e0bad2a29",
   "metadata": {
    "slideshow": {
     "slide_type": "notes"
    }
   },
   "outputs": [],
   "source": [
    "#点击此处输入代码"
   ]
  },
  {
   "cell_type": "markdown",
   "id": "c660edec-4ebe-4230-9325-33ec931af14e",
   "metadata": {},
   "source": [
    "## 题目5：仅打印显示数据表df中的“姓名”清单。"
   ]
  },
  {
   "cell_type": "code",
   "execution_count": 33,
   "id": "6a786386-b032-4fef-a060-fc9f183c9836",
   "metadata": {},
   "outputs": [],
   "source": [
    "#点击此处输入代码"
   ]
  },
  {
   "cell_type": "code",
   "execution_count": null,
   "id": "c963707c",
   "metadata": {},
   "outputs": [],
   "source": []
  }
 ],
 "metadata": {
  "kernelspec": {
   "display_name": "Python 3 (ipykernel)",
   "language": "python",
   "name": "python3"
  },
  "language_info": {
   "codemirror_mode": {
    "name": "ipython",
    "version": 3
   },
   "file_extension": ".py",
   "mimetype": "text/x-python",
   "name": "python",
   "nbconvert_exporter": "python",
   "pygments_lexer": "ipython3",
   "version": "3.9.7"
  }
 },
 "nbformat": 4,
 "nbformat_minor": 5
}
