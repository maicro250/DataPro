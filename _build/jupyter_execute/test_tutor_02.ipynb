{
 "cells": [
  {
   "cell_type": "markdown",
   "id": "e0777be2-d21a-4150-b9b3-74d34b577e9d",
   "metadata": {},
   "source": [
    "**本习题由李政创建，转载及其他形式合作请与我们联系（微信号`maicro42`)，未经授权严禁搬运及二次创作，侵权必究！**"
   ]
  },
  {
   "cell_type": "markdown",
   "id": "b312ed1b",
   "metadata": {},
   "source": [
    "# numpy基本操作练习"
   ]
  },
  {
   "cell_type": "markdown",
   "id": "1012c424-11c4-4c2c-a429-bd0888596ff9",
   "metadata": {},
   "source": [
    "## 导入numpy，并查看其版本"
   ]
  },
  {
   "cell_type": "code",
   "execution_count": 1,
   "id": "cd0d9595",
   "metadata": {},
   "outputs": [],
   "source": [
    "import numpy as np\n",
    "#print(np.__version__)"
   ]
  },
  {
   "cell_type": "markdown",
   "id": "a5abc62d-2e86-4a70-b408-a5b55fcf48ee",
   "metadata": {},
   "source": [
    "## 题目1：创建一个三行三列，元素全是1的矩阵。"
   ]
  },
  {
   "cell_type": "code",
   "execution_count": 2,
   "id": "cf1ed654",
   "metadata": {},
   "outputs": [],
   "source": [
    "#np.array([[ 0., 0., 0.],\n",
    "#          [ 0., 0., 0.],\n",
    "#          [ 0., 0., 0.]])"
   ]
  },
  {
   "cell_type": "markdown",
   "id": "68b5d3fa",
   "metadata": {},
   "source": [
    "## 题目2：创建5阶单位矩阵"
   ]
  },
  {
   "cell_type": "code",
   "execution_count": 3,
   "id": "948ce069",
   "metadata": {},
   "outputs": [],
   "source": [
    "#result = np.diag([1,1,1,1,1])\n",
    "#result"
   ]
  },
  {
   "cell_type": "markdown",
   "id": "844607bb",
   "metadata": {},
   "source": [
    "## 题目3：生成8行8列的二维数组，值为1-999随机数"
   ]
  },
  {
   "cell_type": "code",
   "execution_count": 4,
   "id": "be60d1ce",
   "metadata": {},
   "outputs": [],
   "source": [
    "#data = np.random.randint(1, 999, [8, 8])\n",
    "#data"
   ]
  },
  {
   "cell_type": "markdown",
   "id": "59568400",
   "metadata": {},
   "source": [
    "## 题目4：找到每列的最大值"
   ]
  },
  {
   "cell_type": "code",
   "execution_count": 5,
   "id": "e4e8a97f",
   "metadata": {},
   "outputs": [],
   "source": [
    "#np.amax(data, axis=0)"
   ]
  },
  {
   "cell_type": "markdown",
   "id": "7850431e",
   "metadata": {},
   "source": [
    "## 题目5：找到每行的最大值"
   ]
  },
  {
   "cell_type": "code",
   "execution_count": 6,
   "id": "0662c2c3",
   "metadata": {},
   "outputs": [],
   "source": [
    "#np.amin(data, axis=1)"
   ]
  },
  {
   "cell_type": "code",
   "execution_count": null,
   "id": "55527758",
   "metadata": {},
   "outputs": [],
   "source": []
  }
 ],
 "metadata": {
  "kernelspec": {
   "display_name": "Python 3 (ipykernel)",
   "language": "python",
   "name": "python3"
  },
  "language_info": {
   "codemirror_mode": {
    "name": "ipython",
    "version": 3
   },
   "file_extension": ".py",
   "mimetype": "text/x-python",
   "name": "python",
   "nbconvert_exporter": "python",
   "pygments_lexer": "ipython3",
   "version": "3.9.9"
  }
 },
 "nbformat": 4,
 "nbformat_minor": 5
}