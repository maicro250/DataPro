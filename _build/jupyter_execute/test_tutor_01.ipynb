{
 "cells": [
  {
   "cell_type": "code",
   "execution_count": 1,
   "id": "ed9398e9-1985-481e-8d72-eaa1717adb12",
   "metadata": {},
   "outputs": [],
   "source": [
    "from test_hint_01 import ts"
   ]
  },
  {
   "cell_type": "markdown",
   "id": "e0777be2-d21a-4150-b9b3-74d34b577e9d",
   "metadata": {},
   "source": [
    "**本习题由李政创建，转载及其他形式合作请与我们联系（微信号`maicro42`)，未经授权严禁搬运及二次创作，侵权必究！**"
   ]
  },
  {
   "cell_type": "markdown",
   "id": "1012c424-11c4-4c2c-a429-bd0888596ff9",
   "metadata": {},
   "source": [
    "## 题目1：输出“Hello world!”。"
   ]
  },
  {
   "cell_type": "code",
   "execution_count": null,
   "id": "cd0d9595",
   "metadata": {},
   "outputs": [],
   "source": []
  },
  {
   "cell_type": "markdown",
   "id": "a5abc62d-2e86-4a70-b408-a5b55fcf48ee",
   "metadata": {},
   "source": [
    "## 题目2：导入pandas模块，并将其重命名为pd。"
   ]
  },
  {
   "cell_type": "code",
   "execution_count": 2,
   "id": "5078d553-bedd-48b6-9eae-bb76ed1e64f8",
   "metadata": {},
   "outputs": [],
   "source": [
    "import pandas as pd"
   ]
  },
  {
   "cell_type": "markdown",
   "id": "fa6223d0-d22d-4b50-a0cd-4bf04735a6b2",
   "metadata": {},
   "source": [
    "## 题目3：显示pandas的版本号。"
   ]
  },
  {
   "cell_type": "code",
   "execution_count": 3,
   "id": "0719a102-8266-4cf6-a268-264028b1abd2",
   "metadata": {},
   "outputs": [],
   "source": [
    "dff = pd.DataFrame({\"姓名\": [\"张三\", \"李四\", \"王五\",],\n",
    "                   \"年龄\": [25, 28, 60],\n",
    "                   \"性别\": [\"男\", \"男\", \"女\"],})"
   ]
  },
  {
   "cell_type": "markdown",
   "id": "696a9412-2438-4600-b62a-09f0d872f1a2",
   "metadata": {},
   "source": [
    "## 题目4：打印显示数据表df。"
   ]
  },
  {
   "cell_type": "code",
   "execution_count": 4,
   "id": "b804afb5-41a8-4448-bca8-191e0bad2a29",
   "metadata": {
    "slideshow": {
     "slide_type": "notes"
    }
   },
   "outputs": [
    {
     "data": {
      "text/html": [
       "<div>\n",
       "<style scoped>\n",
       "    .dataframe tbody tr th:only-of-type {\n",
       "        vertical-align: middle;\n",
       "    }\n",
       "\n",
       "    .dataframe tbody tr th {\n",
       "        vertical-align: top;\n",
       "    }\n",
       "\n",
       "    .dataframe thead th {\n",
       "        text-align: right;\n",
       "    }\n",
       "</style>\n",
       "<table border=\"1\" class=\"dataframe\">\n",
       "  <thead>\n",
       "    <tr style=\"text-align: right;\">\n",
       "      <th></th>\n",
       "      <th>姓名</th>\n",
       "      <th>年龄</th>\n",
       "      <th>性别</th>\n",
       "    </tr>\n",
       "  </thead>\n",
       "  <tbody>\n",
       "    <tr>\n",
       "      <th>0</th>\n",
       "      <td>张三</td>\n",
       "      <td>25</td>\n",
       "      <td>男</td>\n",
       "    </tr>\n",
       "    <tr>\n",
       "      <th>1</th>\n",
       "      <td>李四</td>\n",
       "      <td>28</td>\n",
       "      <td>男</td>\n",
       "    </tr>\n",
       "    <tr>\n",
       "      <th>2</th>\n",
       "      <td>王五</td>\n",
       "      <td>60</td>\n",
       "      <td>女</td>\n",
       "    </tr>\n",
       "  </tbody>\n",
       "</table>\n",
       "</div>"
      ],
      "text/plain": [
       "   姓名  年龄 性别\n",
       "0  张三  25  男\n",
       "1  李四  28  男\n",
       "2  王五  60  女"
      ]
     },
     "execution_count": 4,
     "metadata": {},
     "output_type": "execute_result"
    }
   ],
   "source": [
    "dff"
   ]
  },
  {
   "cell_type": "markdown",
   "id": "c660edec-4ebe-4230-9325-33ec931af14e",
   "metadata": {},
   "source": [
    "## 题目5：仅打印显示数据表df中的“姓名”清单。"
   ]
  },
  {
   "cell_type": "code",
   "execution_count": null,
   "id": "6a786386-b032-4fef-a060-fc9f183c9836",
   "metadata": {},
   "outputs": [],
   "source": []
  }
 ],
 "metadata": {
  "celltoolbar": "Tags",
  "kernelspec": {
   "display_name": "Python 3 (ipykernel)",
   "language": "python",
   "name": "python3"
  },
  "language_info": {
   "codemirror_mode": {
    "name": "ipython",
    "version": 3
   },
   "file_extension": ".py",
   "mimetype": "text/x-python",
   "name": "python",
   "nbconvert_exporter": "python",
   "pygments_lexer": "ipython3",
   "version": "3.9.9"
  }
 },
 "nbformat": 4,
 "nbformat_minor": 5
}